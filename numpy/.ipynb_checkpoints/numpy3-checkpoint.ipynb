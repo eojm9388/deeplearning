{
 "cells": [
  {
   "cell_type": "code",
   "execution_count": 1,
   "id": "eec41e7d-5024-414b-b89f-c6f74cd66be0",
   "metadata": {},
   "outputs": [],
   "source": [
    "import numpy as np"
   ]
  },
  {
   "cell_type": "code",
   "execution_count": 2,
   "id": "3e13a142-fc5e-4584-bffe-6c43d4154823",
   "metadata": {},
   "outputs": [
    {
     "name": "stdout",
     "output_type": "stream",
     "text": [
      "[[10 20 30]\n",
      " [40 50 60]]\n",
      "row_add: [[70 80 90]]\n",
      "column_add: [[1000]\n",
      " [2000]]\n",
      "[[10 20 30]\n",
      " [40 50 60]\n",
      " [70 80 90]]\n",
      "[[  10   20   30 1000]\n",
      " [  40   50   60 2000]]\n"
     ]
    }
   ],
   "source": [
    "# 행렬의 열과 행 추가\n",
    "A = np.array([[10, 20, 30], [40, 50, 60]])\n",
    "\n",
    "print(A)\n",
    "\n",
    "# A matrix에 행(row) 추가할 행렬, 1행 3열로 reshape\n",
    "# 행을 추가하기 때문에 우선 열을 3열로 만들어야 함\n",
    "row_add = np.array([70, 80, 90]).reshape(1, 3)\n",
    "print(\"row_add:\", row_add)\n",
    "# # A matrix에 열(column) 추가할 행렬, 2행 1열로 reshape\n",
    "# 열을 추가하기 때문에 우선 행을 2행으로 만들어야 함\n",
    "column_add = np.array([1000, 2000]).reshape(2, 1)\n",
    "print(\"column_add:\", column_add)\n",
    "\n",
    "# numpy.concatenate 에서 axis = 0 행(row)기준\n",
    "# A행렬에 row_add 행렬 추가\n",
    "B = np.concatenate((A, row_add), axis=0)\n",
    "print(B)\n",
    "# numpy.concatenate 에서 axis = 1 열(column)기준\n",
    "# A행렬에 column_add 행렬 추가\n",
    "C = np.concatenate((A, column_add), axis=1)\n",
    "print(C)"
   ]
  },
  {
   "cell_type": "code",
   "execution_count": 3,
   "id": "400325fb-1888-4d04-98cf-1b6d71d21120",
   "metadata": {},
   "outputs": [
    {
     "name": "stdout",
     "output_type": "stream",
     "text": [
      "[[50. 40. 30. 20.]\n",
      " [51. 41. 31. 21.]\n",
      " [52. 42. 32. 22.]\n",
      " [53. 43. 33. 23.]\n",
      " [54. 44. 34. 24.]\n",
      " [55. 45. 35. 25.]\n",
      " [56. 46. 36. 26.]\n",
      " [57. 47. 37. 27.]\n",
      " [58. 48. 38. 28.]\n",
      " [59. 49. 39. 29.]]\n",
      "x_data.ndim = 2 x_data.shape = (10, 3)\n",
      "t_data.ndim = 2 t_data.shape = (10, 1)\n"
     ]
    }
   ],
   "source": [
    "# numpy loadtxt\n",
    "# 콤마(,)로 분리된 데이터 파일을 read\n",
    "\n",
    "loaded_data = np.loadtxt('./data-01.csv', delimiter=',', dtype=np.float32)\n",
    "\n",
    "print(loaded_data)\n",
    "\n",
    "x_data = loaded_data[:, 0:-1]\n",
    "t_data = loaded_data[:, [-1]]\n",
    "\n",
    "# 데이터 차원 및 shape 확인\n",
    "print(\"x_data.ndim =\", x_data.ndim, \"x_data.shape =\", x_data.shape)\n",
    "print(\"t_data.ndim =\", t_data.ndim, \"t_data.shape =\", t_data.shape)"
   ]
  },
  {
   "cell_type": "code",
   "execution_count": 4,
   "id": "21d40303-5fb9-4888-9cac-f3700d316af6",
   "metadata": {},
   "outputs": [
    {
     "name": "stdout",
     "output_type": "stream",
     "text": [
      "random_number1 = [0.60489051 0.92123993 0.26244298]\n",
      "random_number2 = [[0.51749965 0.44306009 0.06852312]]\n",
      "random_number3 = [[0.4525082 ]\n",
      " [0.10485199]\n",
      " [0.55735779]]\n"
     ]
    }
   ],
   "source": [
    "# numpy.random.rand(...)\n",
    "# 0~1 사이의 random number 발생\n",
    "\n",
    "random_number1 = np.random.rand(3)\n",
    "random_number2 = np.random.rand(1, 3)\n",
    "random_number3 = np.random.rand(3, 1)\n",
    "\n",
    "print(\"random_number1 =\", random_number1)\n",
    "print(\"random_number2 =\", random_number2)\n",
    "print(\"random_number1 =\", random_number3)"
   ]
  },
  {
   "cell_type": "code",
   "execution_count": 7,
   "id": "b44ac7c9-4c3d-4e5f-9336-3f72e66eff05",
   "metadata": {},
   "outputs": [
    {
     "name": "stdout",
     "output_type": "stream",
     "text": [
      "np.sum(X) = 20\n",
      "np.exp(X) = [   7.3890561    54.59815003  403.42879349 2980.95798704]\n",
      "np.log(X) = [0.69314718 1.38629436 1.79175947 2.07944154]\n"
     ]
    }
   ],
   "source": [
    "# sum: 원소들의 합, exp, log : 자연상수 e에 대한 지수, 로그\n",
    "X = np.array([2, 4, 6, 8])\n",
    "print(\"np.sum(X) =\", np.sum(X))\n",
    "print(\"np.exp(X) =\", np.exp(X))\n",
    "print(\"np.log(X) =\", np.log(X))"
   ]
  },
  {
   "cell_type": "code",
   "execution_count": 8,
   "id": "4018f5ff-e939-4b55-8412-cf87519dda69",
   "metadata": {},
   "outputs": [
    {
     "name": "stdout",
     "output_type": "stream",
     "text": [
      "np.max(X) = 8\n",
      "np.min(X) = 2\n",
      "np.argmax(X) = 3\n",
      "np.argmin(X) = 0\n"
     ]
    }
   ],
   "source": [
    "# numpy. max, min : vector 최대, 최소, argmax, argmin: vector 최대, 최소 index\n",
    "print(\"np.max(X) =\", np.max(X))\n",
    "print(\"np.min(X) =\", np.min(X))\n",
    "print(\"np.argmax(X) =\", np.argmax(X))\n",
    "print(\"np.argmin(X) =\", np.argmin(X))"
   ]
  },
  {
   "cell_type": "code",
   "execution_count": 10,
   "id": "19c60168-b51e-47b9-8213-85fd130aa396",
   "metadata": {},
   "outputs": [
    {
     "name": "stdout",
     "output_type": "stream",
     "text": [
      "np.max(Y, axis=0) = [2 5 8]\n",
      "np.min(Y, axis=0) = [0 2 3]\n",
      "np.max(Y, axis=1) = [6 3 8]\n",
      "np.min(Y, axis=1) = [2 1 0]\n",
      "np.argmax(Y, axis=0) = [0 2 2]\n",
      "np.argmin(Y, axis=0) = [2 1 1]\n",
      "np.argmax(Y, axis=1) = [2 2 2]\n",
      "np.argmin(Y, axis=1) = [0 0 0]\n"
     ]
    }
   ],
   "source": [
    "# max, min, argmax, argmin을 matrix에서도 사용가능\n",
    "Y = np.array([[2, 4, 6], [1, 2, 3], [0, 5, 8]])\n",
    "\n",
    "# axis=0 열 기준\n",
    "print(\"np.max(Y, axis=0) =\", np.max(Y, axis=0))\n",
    "print(\"np.min(Y, axis=0) =\", np.min(Y, axis=0))\n",
    "      \n",
    "# axis=1 행 기준\n",
    "print(\"np.max(Y, axis=1) =\", np.max(Y, axis=1))\n",
    "print(\"np.min(Y, axis=1) =\", np.min(Y, axis=1))\n",
    "      \n",
    "# axis=0 열 기준\n",
    "print(\"np.argmax(Y, axis=0) =\", np.argmax(Y, axis=0))\n",
    "print(\"np.argmin(Y, axis=0) =\", np.argmin(Y, axis=0))\n",
    "      \n",
    "# axis=1 행 기준\n",
    "print(\"np.argmax(Y, axis=1) =\", np.argmax(Y, axis=1))\n",
    "print(\"np.argmin(Y, axis=1) =\", np.argmin(Y, axis=1))"
   ]
  },
  {
   "cell_type": "code",
   "execution_count": 12,
   "id": "827348eb-770f-41bf-ad89-6cbae7301707",
   "metadata": {},
   "outputs": [
    {
     "name": "stdout",
     "output_type": "stream",
     "text": [
      "A = [[1. 1. 1.]\n",
      " [1. 1. 1.]\n",
      " [1. 1. 1.]]\n",
      "B = [[0. 0. 0.]\n",
      " [0. 0. 0.]]\n"
     ]
    }
   ],
   "source": [
    "# numpy.ones(...): 주어진 원소에 해당하는 1로 된 matrix 생성\n",
    "# numpy.zeros(...): 주어진 원소에 해당하는 0으로 된 matrix 생성\n",
    "\n",
    "A = np.ones([3, 3])\n",
    "print(\"A =\", A)\n",
    "\n",
    "B = np.zeros([2, 3])\n",
    "print(\"B =\", B)"
   ]
  },
  {
   "cell_type": "code",
   "execution_count": 3,
   "id": "ee1c2dbb-849e-4ac3-b752-9f190d753d3a",
   "metadata": {},
   "outputs": [
    {
     "data": {
      "image/png": "[encoded data removed]",
      "text/plain": [
       "<Figure size 640x480 with 1 Axes>"
      ]
     },
     "metadata": {},
     "output_type": "display_data"
    }
   ],
   "source": [
    "# matplotlib \n",
    "# 데이터 시각화 => 입력 데이터의 분포와 모양을 먼저 파악하고, 알고리즘 선택\n",
    "\n",
    "import matplotlib.pyplot as plt\n",
    "\n",
    "# 주피터 노트북 내부에 그림 표시\n",
    "# %matplotlib inline\n",
    "\n",
    "# x data, y data 생성\n",
    "x_data = np.random.rand(100)\n",
    "y_data = np.random.rand(100)\n",
    "\n",
    "plt.title(\"scatter plot\")\n",
    "plt.grid()\n",
    "plt.scatter(x_data, y_data, color='b', marker='o')\n",
    "plt.show()"
   ]
  },
  {
   "cell_type": "code",
   "execution_count": 4,
   "id": "cdadace1-91ff-4145-a944-dd44c0b67f92",
   "metadata": {},
   "outputs": [
    {
     "data": {
      "image/png": "[encoded data removed]",
      "text/plain": [
       "<Figure size 640x480 with 1 Axes>"
      ]
     },
     "metadata": {},
     "output_type": "display_data"
    }
   ],
   "source": [
    "# line plot\n",
    "\n",
    "x_data = [x for x in range(-5, 5)]\n",
    "y_data = [y*y for y in range(-5, 5)]\n",
    "\n",
    "plt.title('line plot')\n",
    "plt.grid()\n",
    "plt.plot(x_data, y_data, color='r')\n",
    "plt.show()"
   ]
  }
 ],
 "metadata": {
  "kernelspec": {
   "display_name": "Python 3 (ipykernel)",
   "language": "python",
   "name": "python3"
  },
  "language_info": {
   "codemirror_mode": {
    "name": "ipython",
    "version": 3
   },
   "file_extension": ".py",
   "mimetype": "text/x-python",
   "name": "python",
   "nbconvert_exporter": "python",
   "pygments_lexer": "ipython3",
   "version": "3.9.13"
  }
 },
 "nbformat": 4,
 "nbformat_minor": 5
}
