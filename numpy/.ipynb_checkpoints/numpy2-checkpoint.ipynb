{
 "cells": [
  {
   "cell_type": "code",
   "execution_count": 1,
   "id": "1f0220b2-6755-4af5-8436-8f4102c285ad",
   "metadata": {},
   "outputs": [],
   "source": [
    "import numpy as np"
   ]
  },
  {
   "cell_type": "code",
   "execution_count": 2,
   "id": "62bbf797-0289-4556-a557-6620125bef6e",
   "metadata": {},
   "outputs": [
    {
     "name": "stdout",
     "output_type": "stream",
     "text": [
      "A.shape == (2, 3) B.shape == (3, 2)\n",
      "C.shape == (2, 2)\n",
      "[[-22 -28]\n",
      " [-49 -64]]\n"
     ]
    }
   ],
   "source": [
    "A = np.array([[1, 2, 3], [4, 5, 6]])\n",
    "B = np.array([[-1, -2], [-3, -4], [-5, -6]])\n",
    "\n",
    "# (2X3) dot product (3X2) == (2X2) 행렬\n",
    "C = np.dot(A, B) # 행렬 곱 수행\n",
    "\n",
    "# matrix A, B 형상 출력 => shape\n",
    "print(\"A.shape ==\", A.shape, \"B.shape ==\", B.shape)\n",
    "print(\"C.shape ==\", C.shape)\n",
    "print(C)"
   ]
  },
  {
   "cell_type": "code",
   "execution_count": 4,
   "id": "38294fe9-3a37-4b10-a9cb-be6a64e29e8b",
   "metadata": {},
   "outputs": [
    {
     "name": "stdout",
     "output_type": "stream",
     "text": [
      "[[ -9 -12 -15]\n",
      " [-19 -26 -33]\n",
      " [-29 -40 -51]]\n"
     ]
    }
   ],
   "source": [
    "D = np.dot(B, A)\n",
    "print(D)"
   ]
  },
  {
   "cell_type": "code",
   "execution_count": 6,
   "id": "f49adc49-e975-4ecd-9d36-36d7f08fb630",
   "metadata": {},
   "outputs": [
    {
     "name": "stdout",
     "output_type": "stream",
     "text": [
      "[[6 7]\n",
      " [8 9]]\n"
     ]
    }
   ],
   "source": [
    "# broadcast\n",
    "# numpy에서는 크기가 다른 두 행렬간에도 사칙연산 (+, -, *, /)을 할 수 있는데\n",
    "# 이를 브로드 캐스트(boradcast)라고 지칭함\n",
    "# => 차원이 작은 쪽이 큰 쪽의 행 단위로 반복적으로 크기를 맞춘 후에 계산\n",
    "\n",
    "A = np.array([[1, 2], [3, 4]])\n",
    "b = 5\n",
    "\n",
    "print(A + b)"
   ]
  },
  {
   "cell_type": "code",
   "execution_count": 7,
   "id": "dd22b98e-02c9-406f-9d17-72277722987e",
   "metadata": {},
   "outputs": [
    {
     "name": "stdout",
     "output_type": "stream",
     "text": [
      "[[5 7]\n",
      " [7 9]]\n"
     ]
    }
   ],
   "source": [
    "C = np.array([[1, 2], [3, 4]])\n",
    "D = np.array([4, 5])\n",
    "\n",
    "print(C + D)"
   ]
  },
  {
   "cell_type": "code",
   "execution_count": 8,
   "id": "86f3689a-d13f-4edc-b90c-e12d29a01ae5",
   "metadata": {},
   "outputs": [
    {
     "name": "stdout",
     "output_type": "stream",
     "text": [
      "A.shape == (3, 2) B.shape == (2, 3)\n",
      "[[1 2]\n",
      " [3 4]\n",
      " [5 6]]\n",
      "[[1 3 5]\n",
      " [2 4 6]]\n"
     ]
    }
   ],
   "source": [
    "A = np.array([[1, 2], [3, 4], [5, 6]])\n",
    "B = A.T # A의 전치행렬\n",
    "\n",
    "print(\"A.shape ==\", A.shape, \"B.shape ==\", B.shape)\n",
    "print(A)\n",
    "print(B)"
   ]
  },
  {
   "cell_type": "code",
   "execution_count": 9,
   "id": "839d84b3-0af8-44bc-8897-d2d86253ae8e",
   "metadata": {},
   "outputs": [
    {
     "name": "stdout",
     "output_type": "stream",
     "text": [
      "C.shape == (5,) D.shape == (5,)\n",
      "E.shape == (1, 5) F.shape == (5, 1)\n",
      "[[1]\n",
      " [2]\n",
      " [3]\n",
      " [4]\n",
      " [5]]\n"
     ]
    }
   ],
   "source": [
    "# vector 전치행렬\n",
    "C = np.array([1, 2, 3, 4, 5]) #vector, matrix 아님\n",
    "D = C.T # C는 vector 이므로 transpose 안됨\n",
    "\n",
    "E = C.reshape(1, 5)\n",
    "F = E.T \n",
    "\n",
    "print(\"C.shape ==\", C.shape, \"D.shape ==\", D.shape)\n",
    "print(\"E.shape ==\", E.shape, \"F.shape ==\", F.shape)\n",
    "print(F)"
   ]
  },
  {
   "cell_type": "code",
   "execution_count": 10,
   "id": "e61a8a44-f22a-44e3-a88d-92176ed648b9",
   "metadata": {},
   "outputs": [
    {
     "name": "stdout",
     "output_type": "stream",
     "text": [
      "A.shape == (3, 2)\n",
      "[[10 20]\n",
      " [30 40]\n",
      " [50 60]]\n"
     ]
    }
   ],
   "source": [
    "# numpy 행렬 indexing/slicing\n",
    "A = np.array([10, 20, 30, 40, 50, 60]).reshape(3, 2)\n",
    "\n",
    "print(\"A.shape ==\", A.shape)\n",
    "print(A)"
   ]
  },
  {
   "cell_type": "code",
   "execution_count": 11,
   "id": "82009e7f-a867-47b1-b76b-54b51bd01bc8",
   "metadata": {},
   "outputs": [
    {
     "name": "stdout",
     "output_type": "stream",
     "text": [
      "A[0][0] == 10 A[0][1] == 20\n",
      "A[1][0] == 30 A[1][1] == 40\n"
     ]
    }
   ],
   "source": [
    "print(\"A[0][0] ==\", A[0, 0], \"A[0][1] ==\", A[0, 1])\n",
    "print(\"A[1][0] ==\", A[1, 0], \"A[1][1] ==\", A[1, 1])"
   ]
  },
  {
   "cell_type": "code",
   "execution_count": 12,
   "id": "92922824-7dfa-4d1d-b053-1165748bc56b",
   "metadata": {},
   "outputs": [
    {
     "name": "stdout",
     "output_type": "stream",
     "text": [
      "A[0:-1, 1:2] == [[20]\n",
      " [40]]\n"
     ]
    }
   ],
   "source": [
    "print(\"A[0:-1, 1:2] ==\", A[0:-1, 1:2])"
   ]
  },
  {
   "cell_type": "code",
   "execution_count": 14,
   "id": "5e5d4f0b-4147-46b6-b02f-d55256b87ca1",
   "metadata": {},
   "outputs": [
    {
     "name": "stdout",
     "output_type": "stream",
     "text": [
      "A[:, 0] == [10 30 50] (3,)\n",
      "A[:, :] == [[10 20]\n",
      " [30 40]\n",
      " [50 60]]\n"
     ]
    }
   ],
   "source": [
    "print(\"A[:, 0] ==\", A[:, 0], A[:, 0].shape)\n",
    "print(\"A[:, :] ==\", A[:, :])"
   ]
  },
  {
   "cell_type": "code",
   "execution_count": 16,
   "id": "d6a62968-4169-43ec-ab0e-9465f1d7616a",
   "metadata": {},
   "outputs": [
    {
     "name": "stdout",
     "output_type": "stream",
     "text": [
      "current val == 10\n",
      "current val == 20\n",
      "current val == 30\n",
      "current val == 40\n",
      "current val == 50\n",
      "current val == 60\n",
      "current val == 70\n",
      "current val == 80\n"
     ]
    }
   ],
   "source": [
    "# numpy 행렬 iterator\n",
    "# 행렬 모든 원서를 access 하는 경우에는 iterator 사용 가능\n",
    "\n",
    "A = np.array([[10, 20, 30, 40], [50, 60, 70, 80]])\n",
    "\n",
    "# 행렬 A의 iterator 생성\n",
    "it = np.nditer(A, flags=['multi_index'], op_flags=['readwrite'])\n",
    "\n",
    "while not it.finished:\n",
    "    idx = it.multi_index\n",
    "    print(\"current val ==\", A[idx])\n",
    "    it.iternext()\n",
    "    "
   ]
  }
 ],
 "metadata": {
  "kernelspec": {
   "display_name": "Python 3 (ipykernel)",
   "language": "python",
   "name": "python3"
  },
  "language_info": {
   "codemirror_mode": {
    "name": "ipython",
    "version": 3
   },
   "file_extension": ".py",
   "mimetype": "text/x-python",
   "name": "python",
   "nbconvert_exporter": "python",
   "pygments_lexer": "ipython3",
   "version": "3.9.13"
  }
 },
 "nbformat": 4,
 "nbformat_minor": 5
}
