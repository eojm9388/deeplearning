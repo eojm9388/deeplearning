{
 "cells": [
  {
   "cell_type": "code",
   "execution_count": 1,
   "id": "59b81b45-b2e1-43fe-90fb-1f8b32e5de8a",
   "metadata": {},
   "outputs": [],
   "source": [
    "import numpy as np"
   ]
  },
  {
   "cell_type": "code",
   "execution_count": 2,
   "id": "428e85e9-b7bc-4a56-aa4b-e98fca412fa6",
   "metadata": {},
   "outputs": [
    {
     "data": {
      "text/plain": [
       "array([[2, 1],\n",
       "       [1, 2]])"
      ]
     },
     "execution_count": 2,
     "metadata": {},
     "output_type": "execute_result"
    }
   ],
   "source": [
    "# 리스트를 행렬 표현\n",
    "A = np.array([[1, 0], [0, 1]])\n",
    "B = np.array([[1, 1], [1, 1]])\n",
    "\n",
    "A + B"
   ]
  },
  {
   "cell_type": "code",
   "execution_count": 3,
   "id": "1601a105-7eb1-46de-bbf2-8603864348a1",
   "metadata": {},
   "outputs": [
    {
     "name": "stdout",
     "output_type": "stream",
     "text": [
      "A ==  [1 2 3] B ==  [[4 5 6]\n",
      " [7 8 9]]\n",
      "A.shape == (3,) B.shape == (2, 3)\n",
      "A.ndim == 1 B.ndim == 2\n"
     ]
    }
   ],
   "source": [
    "A = np.array([1, 2, 3])\n",
    "B = np.array([[4, 5, 6], [7, 8, 9]])\n",
    "\n",
    "# vector A, B 출력\n",
    "print(\"A == \", A, \"B == \", B)\n",
    "\n",
    "# vector A, B 형상 출력 => shape\n",
    "print(\"A.shape ==\", A.shape, \"B.shape ==\", B.shape)\n",
    "\n",
    "# vector A, B 차원 출력 => ndim\n",
    "print(\"A.ndim ==\", A.ndim, \"B.ndim ==\", B.ndim)\n"
   ]
  },
  {
   "cell_type": "code",
   "execution_count": 4,
   "id": "794e7f28-6184-41eb-8a90-efb2395253e7",
   "metadata": {},
   "outputs": [
    {
     "name": "stdout",
     "output_type": "stream",
     "text": [
      "C.shape == (3,)\n",
      "[[1 2 3]]\n",
      "C.shape == (1, 3)\n"
     ]
    }
   ],
   "source": [
    "# vector 생성\n",
    "C = np.array([1, 2, 3])\n",
    "\n",
    "# vector A, B 형상 출력 => shape\n",
    "print(\"C.shape ==\", C.shape)\n",
    "\n",
    "# vector를 (1, 3) 행렬로 형 변환\n",
    "C = C.reshape(1, 3)\n",
    "\n",
    "print(C)\n",
    "print(\"C.shape ==\", C.shape)"
   ]
  }
 ],
 "metadata": {
  "kernelspec": {
   "display_name": "Python 3 (ipykernel)",
   "language": "python",
   "name": "python3"
  },
  "language_info": {
   "codemirror_mode": {
    "name": "ipython",
    "version": 3
   },
   "file_extension": ".py",
   "mimetype": "text/x-python",
   "name": "python",
   "nbconvert_exporter": "python",
   "pygments_lexer": "ipython3",
   "version": "3.9.13"
  }
 },
 "nbformat": 4,
 "nbformat_minor": 5
}
